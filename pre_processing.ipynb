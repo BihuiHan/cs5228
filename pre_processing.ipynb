{
 "cells": [
  {
   "cell_type": "code",
   "execution_count": 3,
   "metadata": {},
   "outputs": [],
   "source": [
    "import numpy as np\n",
    "import pandas as pd\n",
    "\n",
    "import time\n",
    "import os\n",
    "from selenium import webdriver\n",
    "from bs4 import BeautifulSoup"
   ]
  },
  {
   "cell_type": "code",
   "execution_count": 4,
   "metadata": {},
   "outputs": [],
   "source": [
    "trainData=pd.read_csv(\"data\" + os.sep + \"train.csv\", na_filter=False)\n",
    "trainHeader = trainData.columns.values\n",
    "trainData = trainData.values\n",
    "\n",
    "X_train = trainData[:, range(6)]\n",
    "y_train = trainData[:, 6]\n",
    "y_train = y_train.astype(\"int\")"
   ]
  },
  {
   "cell_type": "code",
   "execution_count": 5,
   "metadata": {},
   "outputs": [],
   "source": [
    "testData=pd.read_csv(\"data\" + os.sep + \"test.csv\", na_filter=False)\n",
    "testHeader = testData.columns.values\n",
    "testData = testData.values\n",
    "\n",
    "X_test = testData[:, range(6)]"
   ]
  },
  {
   "cell_type": "code",
   "execution_count": 6,
   "metadata": {},
   "outputs": [],
   "source": [
    "def read_url(dataset, dir):\n",
    "    firefoxProfile = webdriver.FirefoxProfile()\n",
    "    firefoxProfile.set_preference('permissions.default.stylesheet', 2)\n",
    "    firefoxProfile.set_preference('permissions.default.image', 2)\n",
    "    firefoxProfile.set_preference('dom.ipc.plugins.enabled.libflashplayer.so', False)\n",
    "    firefoxProfile.set_preference(\"javascript.enabled\", False)\n",
    "    firefoxProfile.set_preference(\"http.response.timeout\", 5)\n",
    "    firefoxProfile.set_preference(\"dom.max_script_run_time\", 5)\n",
    "    driver = webdriver.Firefox(firefox_profile=firefoxProfile)\n",
    "    for i in range(dataset.shape[0]):\n",
    "        url = dataset[i][2]\n",
    "        print(url)\n",
    "        driver.get(url)\n",
    "        time.sleep(5)\n",
    "        htmlSource = driver.page_source\n",
    "        with open(\"page\" + os.sep + dir + \"_\" + str(i) + \".txt\", \"w\") as f:\n",
    "            f.write(clean(htmlSource))"
   ]
  },
  {
   "cell_type": "code",
   "execution_count": 7,
   "metadata": {},
   "outputs": [],
   "source": [
    "def clean(html):\n",
    "    soup = BeautifulSoup(html)\n",
    "    for tag in soup([\"script\", \"style\", \"a\", \"li\"]): \n",
    "        tag.extract()\n",
    "    text = soup.get_text()\n",
    "    lines = (line.strip() for line in text.splitlines())\n",
    "    chunks = (phrase.strip() for line in lines for phrase in line.split(\"  \"))\n",
    "    text = '\\n'.join(chunk for chunk in chunks if chunk)\n",
    "    return text"
   ]
  },
  {
   "cell_type": "code",
   "execution_count": null,
   "metadata": {},
   "outputs": [
    {
     "name": "stdout",
     "output_type": "stream",
     "text": [
      "http://www.nasdaq.com/article/forex-pound-drops-to-onemonth-lows-against-euro-cm333750\n",
      "http://www.foxbusiness.com/industries/2014/03/18/hertz-to-spin-off-equipment-rental-business/\n",
      "http://www.resourceinvestor.com/2014/03/09/gold-etf-inflows-return\\?t=precious-metals\n"
     ]
    }
   ],
   "source": [
    "read_url(X_train, \"train\")"
   ]
  },
  {
   "cell_type": "code",
   "execution_count": null,
   "metadata": {},
   "outputs": [],
   "source": []
  }
 ],
 "metadata": {
  "kernelspec": {
   "display_name": "Python 3",
   "language": "python",
   "name": "python3"
  },
  "language_info": {
   "codemirror_mode": {
    "name": "ipython",
    "version": 3
   },
   "file_extension": ".py",
   "mimetype": "text/x-python",
   "name": "python",
   "nbconvert_exporter": "python",
   "pygments_lexer": "ipython3",
   "version": "3.6.3"
  }
 },
 "nbformat": 4,
 "nbformat_minor": 2
}

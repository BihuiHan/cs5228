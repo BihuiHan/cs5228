{
 "cells": [
  {
   "cell_type": "code",
   "execution_count": null,
   "metadata": {},
   "outputs": [],
   "source": [
    "import numpy as np\n",
    "import pandas as pd\n",
    "\n",
    "import time\n",
    "import os\n",
    "from selenium import webdriver\n",
    "from selenium.webdriver.common.desired_capabilities import DesiredCapabilities\n",
    "from bs4 import BeautifulSoup"
   ]
  },
  {
   "cell_type": "code",
   "execution_count": null,
   "metadata": {},
   "outputs": [],
   "source": [
    "trainData=pd.read_csv(\"data\" + os.sep + \"train.csv\", na_filter=False)\n",
    "trainHeader = trainData.columns.values\n",
    "trainData = trainData.values\n",
    "\n",
    "X_train = trainData[:, range(6)]\n",
    "y_train = trainData[:, 6]\n",
    "y_train = y_train.astype(\"int\")"
   ]
  },
  {
   "cell_type": "code",
   "execution_count": null,
   "metadata": {},
   "outputs": [],
   "source": [
    "trainData_2=pd.read_csv(\"data\" + os.sep + \"train_v2.csv\", na_filter=False)\n",
    "trainHeader_2 = trainData_2.columns.values\n",
    "trainData_2 = trainData_2.values\n",
    "\n",
    "X_train_2 = trainData_2[:, range(6)]\n",
    "y_train_2 = trainData_2[:, 6]\n",
    "y_train_2 = y_train_2.astype(\"int\")"
   ]
  },
  {
   "cell_type": "code",
   "execution_count": null,
   "metadata": {},
   "outputs": [],
   "source": [
    "testData_2=pd.read_csv(\"data\" + os.sep + \"test_V2.csv\", na_filter=False)\n",
    "testHeader_2 = testData_2.columns.values\n",
    "testData_2 = testData_2.values\n",
    "\n",
    "X_test_2 = testData_2[:, range(6)]"
   ]
  },
  {
   "cell_type": "code",
   "execution_count": null,
   "metadata": {},
   "outputs": [],
   "source": [
    "def read_url(dataset, dir):\n",
    "    firefoxProfile = webdriver.FirefoxProfile()\n",
    "    firefoxProfile.set_preference('permissions.default.stylesheet', 2)\n",
    "    firefoxProfile.set_preference('permissions.default.image', 2)\n",
    "    firefoxProfile.set_preference('dom.ipc.plugins.enabled.libflashplayer.so', False)\n",
    "    firefoxProfile.set_preference(\"dom.max_script_run_time\", 5)\n",
    "    caps = DesiredCapabilities().FIREFOX\n",
    "    caps[\"pageLoadStrategy\"] = \"eager\"\n",
    "    driver = webdriver.Firefox(firefox_profile=firefoxProfile, desired_capabilities=caps)\n",
    "    for i in range(dataset.shape[0]):\n",
    "        try:\n",
    "            url = dataset[i][2]\n",
    "            driver.get(url)\n",
    "            htmlSource = driver.page_source\n",
    "            with open(\"page\" + os.sep + dir + \"_\" + str(i) + \".txt\", \"w\") as f:\n",
    "                f.write(clean(htmlSource))\n",
    "        except:\n",
    "            with open(\"page\" + os.sep + dir + \"_\" + str(i) + \".txt\", \"w\") as f:\n",
    "                f.write(\"\")"
   ]
  },
  {
   "cell_type": "code",
   "execution_count": null,
   "metadata": {},
   "outputs": [],
   "source": [
    "def clean(html):\n",
    "    soup = BeautifulSoup(html)\n",
    "    for tag in soup([\"script\", \"style\", \"a\", \"li\"]): \n",
    "        tag.extract()\n",
    "    text = soup.get_text()\n",
    "    lines = (line.strip() for line in text.splitlines())\n",
    "    chunks = (phrase.strip() for line in lines for phrase in line.split(\"  \"))\n",
    "    text = '\\n'.join(chunk for chunk in chunks if chunk)\n",
    "    return text"
   ]
  },
  {
   "cell_type": "code",
   "execution_count": null,
   "metadata": {},
   "outputs": [],
   "source": [
    "read_url(X_train, \"train\")"
   ]
  },
  {
   "cell_type": "code",
   "execution_count": null,
   "metadata": {},
   "outputs": [],
   "source": [
    "read_url(X_train_2, \"train_2\")"
   ]
  },
  {
   "cell_type": "code",
   "execution_count": null,
   "metadata": {},
   "outputs": [],
   "source": [
    "read_url(X_test_2, \"test_2\")"
   ]
  }
 ],
 "metadata": {
  "kernelspec": {
   "display_name": "Python 3",
   "language": "python",
   "name": "python3"
  },
  "language_info": {
   "codemirror_mode": {
    "name": "ipython",
    "version": 3
   },
   "file_extension": ".py",
   "mimetype": "text/x-python",
   "name": "python",
   "nbconvert_exporter": "python",
   "pygments_lexer": "ipython3",
   "version": "3.6.3"
  }
 },
 "nbformat": 4,
 "nbformat_minor": 2
}

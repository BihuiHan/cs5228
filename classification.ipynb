{
 "cells": [
  {
   "cell_type": "code",
   "execution_count": 193,
   "metadata": {},
   "outputs": [],
   "source": [
    "import numpy as np\n",
    "import pandas as pd\n",
    "\n",
    "from sklearn.metrics import fbeta_score\n",
    "from sklearn.model_selection import train_test_split\n",
    "from sklearn.feature_extraction.text import TfidfVectorizer, TfidfTransformer\n",
    "from sklearn.neighbors import KNeighborsClassifier\n",
    "\n",
    "from sklearn.naive_bayes import GaussianNB\n",
    "from sklearn.tree import DecisionTreeClassifier\n",
    "\n",
    "import math\n",
    "import os\n",
    "from scipy.sparse import hstack, csr_matrix\n",
    "from collections import Counter"
   ]
  },
  {
   "cell_type": "code",
   "execution_count": 194,
   "metadata": {},
   "outputs": [],
   "source": [
    "def write(method, y_pred):\n",
    "    with open(\"sample_submission_\" + method + \".csv\", \"w\") as f:\n",
    "        f.write(\"article_id,category\\n\")\n",
    "        for i, y in enumerate(y_pred):\n",
    "            f.write(str(i + 1) + \",\" + str(y))\n",
    "            f.write(\"\\n\")"
   ]
  },
  {
   "cell_type": "code",
   "execution_count": 195,
   "metadata": {},
   "outputs": [],
   "source": [
    "def counter_cosine_similarity(y1, y2):\n",
    "    y1 = Counter(y1)\n",
    "    y2 = Counter(y2)\n",
    "    y = set(y1).union(y2)\n",
    "    dotprod = sum(y1.get(k, 0) * y2.get(k, 0) for k in y)\n",
    "    magA = math.sqrt(sum(y1.get(k, 0)**2 for k in y))\n",
    "    magB = math.sqrt(sum(y2.get(k, 0)**2 for k in y))\n",
    "    return dotprod / (magA * magB)"
   ]
  },
  {
   "cell_type": "code",
   "execution_count": 212,
   "metadata": {},
   "outputs": [],
   "source": [
    "trainData=pd.read_csv(\"data\" + os.sep + \"train.csv\", na_filter=False)\n",
    "trainHeader = trainData.columns.values\n",
    "trainData = trainData.values\n",
    "\n",
    "X_train = trainData[:, range(6)]\n",
    "y_train = trainData[:, 6]\n",
    "y_train = y_train.astype(\"int\")"
   ]
  },
  {
   "cell_type": "code",
   "execution_count": 213,
   "metadata": {},
   "outputs": [],
   "source": [
    "testData=pd.read_csv(\"data\" + os.sep + \"test.csv\", na_filter=False)\n",
    "testHeader = testData.columns.values\n",
    "testData = testData.values\n",
    "\n",
    "X_test = testData[:, range(6)]"
   ]
  },
  {
   "cell_type": "code",
   "execution_count": null,
   "metadata": {},
   "outputs": [],
   "source": []
  },
  {
   "cell_type": "code",
   "execution_count": 72,
   "metadata": {},
   "outputs": [],
   "source": [
    "X_combined = np.concatenate((X_train, X_test), axis=0)\n",
    "X_train_size = X_train.shape[0]\n",
    "X_train_test = 3500\n",
    "\n",
    "vectorizer = TfidfVectorizer(stop_words=\"english\", norm=\"l1\")\n",
    "X_combined_tfidf = [vectorizer.fit_transform(X_combined[:, i + 1]) for i in range(4)]\n",
    "\n",
    "X_train_tfidf = hstack([X_combined_tfidf[0][0:X_train_size], X_combined_tfidf[1][0:X_train_size], X_combined_tfidf[2][0:X_train_size], X_combined_tfidf[3][0:X_train_size]])\n",
    "X_train_train_tfidf = hstack([X_combined_tfidf[0][0:X_train_test], X_combined_tfidf[1][0:X_train_test], X_combined_tfidf[2][0:X_train_test], X_combined_tfidf[3][0:X_train_test]])\n",
    "X_train_test_tfidf = hstack([X_combined_tfidf[0][X_train_test:X_train_size], X_combined_tfidf[1][X_train_test:X_train_size], X_combined_tfidf[2][X_train_test:X_train_size], X_combined_tfidf[3][X_train_test:X_train_size]])\n",
    "X_test_tfidf = hstack([X_combined_tfidf[0][X_train_size:], X_combined_tfidf[1][X_train_size:], X_combined_tfidf[2][X_train_size:], X_combined_tfidf[3][X_train_size:]])\n",
    "#X_train_tfidf = hstack([X_combined_tfidf[0][0:X_train_size], X_combined_tfidf[2][0:X_train_size]])\n",
    "#X_train_train_tfidf = hstack([X_combined_tfidf[0][0:X_train_test], X_combined_tfidf[2][0:X_train_test]])\n",
    "#X_train_test_tfidf = hstack([X_combined_tfidf[0][X_train_test:X_train_size], X_combined_tfidf[2][X_train_test:X_train_size]])\n",
    "#X_test_tfidf = hstack([X_combined_tfidf[0][X_train_size:], X_combined_tfidf[2][X_train_size:]])\n",
    "\n",
    "transformer = TfidfTransformer() \n",
    "timestamp_tfidf = transformer.fit_transform(X_combined[:, [5]].astype('float'))\n",
    "X_train_tfidf = hstack([X_train_tfidf, timestamp_tfidf[0:X_train_size]])\n",
    "X_train_train_tfidf = hstack([X_train_train_tfidf, timestamp_tfidf[0:X_train_test]])\n",
    "X_train_test_tfidf = hstack([X_train_test_tfidf, timestamp_tfidf[X_train_test:X_train_size]])\n",
    "X_test_tfidf = hstack([X_test_tfidf, timestamp_tfidf[X_train_size:]])\n",
    "\n"
   ]
  },
  {
   "cell_type": "code",
   "execution_count": 93,
   "metadata": {},
   "outputs": [
    {
     "name": "stdout",
     "output_type": "stream",
     "text": [
      "F2 Score : 0.21501092358052182\n",
      "Score : 0.3644859813084112\n",
      "Cosine Similarity : 0.9912510478857984\n"
     ]
    }
   ],
   "source": [
    "#KNN\n",
    "classifier = KNeighborsClassifier(1)\n",
    "\n",
    "classifier.fit(X_train_train_tfidf, y_train[0:X_train_test])\n",
    "print(\"F2 Score : \" + str(fbeta_score(y_train[X_train_test:X_train_size], classifier.predict(X_train_test_tfidf), average='macro', beta=2)))\n",
    "print(\"Score : \" + str(classifier.score(X_train_test_tfidf, y_train[X_train_test:X_train_size])))\n",
    "print(\"Cosine Similarity : \" + str(counter_cosine_similarity(list(y_train[X_train_test:X_train_size]), list(classifier.predict(X_train_test_tfidf)))))\n",
    "\n",
    "write(\"knn\", classifier.predict(X_test_tfidf))"
   ]
  },
  {
   "cell_type": "code",
   "execution_count": 81,
   "metadata": {},
   "outputs": [],
   "source": [
    "#BBN\n"
   ]
  },
  {
   "cell_type": "code",
   "execution_count": 95,
   "metadata": {},
   "outputs": [
    {
     "name": "stdout",
     "output_type": "stream",
     "text": [
      "F2 Score : 0.26907845340090164\n",
      "Score : 0.477803738317757\n",
      "Cosine Similarity : 0.9366658207133244\n"
     ]
    }
   ],
   "source": [
    "#Decision Tree\n",
    "classifier = DecisionTreeClassifier(max_depth=40)\n",
    "\n",
    "classifier.fit(X_train_train_tfidf, y_train[0:X_train_test])\n",
    "print(\"F2 Score : \" + str(fbeta_score(y_train[X_train_test:X_train_size], classifier.predict(X_train_test_tfidf), average='macro', beta=2)))\n",
    "print(\"Score : \" + str(classifier.score(X_train_test_tfidf, y_train[X_train_test:X_train_size])))\n",
    "print(\"Cosine Similarity : \" + str(counter_cosine_similarity(list(y_train[X_train_test:X_train_size]), list(classifier.predict(X_train_test_tfidf)))))\n",
    "\n",
    "write(\"decision_tree\", classifier.predict(X_test_tfidf))"
   ]
  },
  {
   "cell_type": "code",
   "execution_count": 172,
   "metadata": {},
   "outputs": [],
   "source": [
    "\n",
    "import numpy as np\n",
    "\n",
    "def f2_score(y_true, y_pred):\n",
    "    # fbeta_score throws a confusing error if inputs are not numpy arrays\n",
    "    y_true, y_pred, = np.array(y_true), np.array(y_pred)\n",
    "    # We need to use average='samples' here, any other average method will generate bogus results\n",
    "    return fbeta_score(y_true, y_pred, beta=2, average='samples')\n"
   ]
  },
  {
   "cell_type": "code",
   "execution_count": null,
   "metadata": {},
   "outputs": [],
   "source": []
  }
 ],
 "metadata": {
  "kernelspec": {
   "display_name": "Python 3",
   "language": "python",
   "name": "python3"
  },
  "language_info": {
   "codemirror_mode": {
    "name": "ipython",
    "version": 3
   },
   "file_extension": ".py",
   "mimetype": "text/x-python",
   "name": "python",
   "nbconvert_exporter": "python",
   "pygments_lexer": "ipython3",
   "version": "3.6.3"
  }
 },
 "nbformat": 4,
 "nbformat_minor": 2
}

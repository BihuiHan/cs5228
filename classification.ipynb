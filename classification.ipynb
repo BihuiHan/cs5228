{
 "cells": [
  {
   "cell_type": "code",
   "execution_count": 1,
   "metadata": {},
   "outputs": [],
   "source": [
    "import numpy as np\n",
    "import pandas as pd\n",
    "\n",
    "from sklearn.model_selection import train_test_split\n",
    "from sklearn.feature_extraction.text import TfidfVectorizer, TfidfTransformer\n",
    "from sklearn.neighbors import KNeighborsClassifier\n",
    "\n",
    "from sklearn.naive_bayes import GaussianNB\n",
    "from sklearn.tree import DecisionTreeClassifier\n",
    "\n",
    "import math\n",
    "from scipy.sparse import hstack\n",
    "from collections import Counter"
   ]
  },
  {
   "cell_type": "code",
   "execution_count": 2,
   "metadata": {},
   "outputs": [],
   "source": [
    "def write(method, y_pred):\n",
    "    with open(\"sample_submission_\" + method + \".csv\", \"w\") as f:\n",
    "        f.write(\"article_id,category\\n\")\n",
    "        for i, y in enumerate(y_pred):\n",
    "            f.write(str(i + 1) + \",\" + str(y))\n",
    "            f.write(\"\\n\")"
   ]
  },
  {
   "cell_type": "code",
   "execution_count": 3,
   "metadata": {},
   "outputs": [],
   "source": [
    "def counter_cosine_similarity(y1, y2):\n",
    "    y1 = Counter(y1)\n",
    "    y2 = Counter(y2)\n",
    "    y = set(y1).union(y2)\n",
    "    dotprod = sum(y1.get(k, 0) * y2.get(k, 0) for k in y)\n",
    "    magA = math.sqrt(sum(y1.get(k, 0)**2 for k in y))\n",
    "    magB = math.sqrt(sum(y2.get(k, 0)**2 for k in y))\n",
    "    return dotprod / (magA * magB)"
   ]
  },
  {
   "cell_type": "code",
   "execution_count": 4,
   "metadata": {},
   "outputs": [],
   "source": [
    "trainData=pd.read_csv('train.csv', na_filter=False)\n",
    "trainHeader = trainData.columns.values\n",
    "trainData = trainData.values\n",
    "\n",
    "X_train = trainData[:, range(6)]\n",
    "y_train = trainData[:, 6]\n",
    "y_train = y_train.astype('int')"
   ]
  },
  {
   "cell_type": "code",
   "execution_count": 5,
   "metadata": {},
   "outputs": [],
   "source": [
    "testData=pd.read_csv('test.csv', na_filter=False)\n",
    "testHeader = testData.columns.values\n",
    "testData = testData.values\n",
    "\n",
    "X_test = testData[:, range(6)]"
   ]
  },
  {
   "cell_type": "code",
   "execution_count": 9,
   "metadata": {},
   "outputs": [],
   "source": [
    "X_combined = np.concatenate((X_train, X_test), axis=0)\n",
    "X_train_size = X_train.shape[0]\n",
    "\n",
    "vectorizer = TfidfVectorizer()\n",
    "X_combined_tfidf = [vectorizer.fit_transform(X_combined[:, i + 1]) for i in range(4)]\n",
    "X_train_tfidf = hstack([X_combined_tfidf[0][0:X_train_size], X_combined_tfidf[1][0:X_train_size], X_combined_tfidf[2][0:X_train_size], X_combined_tfidf[3][0:X_train_size]])\n",
    "X_test_tfidf = hstack([X_combined_tfidf[0][X_train_size:], X_combined_tfidf[1][X_train_size:], X_combined_tfidf[2][X_train_size:], X_combined_tfidf[3][X_train_size:]])\n",
    "\n",
    "transformer = TfidfTransformer() \n",
    "timestamp_tfidf = transformer.fit_transform(X_combined[:, [5]].astype('float'))\n",
    "X_train_tfidf = hstack([X_train_tfidf, timestamp_tfidf[0:X_train_size]])\n",
    "X_test_tfidf = hstack([X_test_tfidf, timestamp_tfidf[X_train_size:]])"
   ]
  },
  {
   "cell_type": "code",
   "execution_count": 10,
   "metadata": {},
   "outputs": [
    {
     "name": "stdout",
     "output_type": "stream",
     "text": [
      "Score : 0.6464646464646465\n",
      "Cosine Similarity : 0.9890027426517952\n"
     ]
    }
   ],
   "source": [
    "#KNN-3\n",
    "classifier = KNeighborsClassifier(3)\n",
    "\n",
    "classifier.fit(X_train_tfidf, y_train)\n",
    "print(\"Score : \" + str(classifier.score(X_train_tfidf, y_train)))\n",
    "print(\"Cosine Similarity : \" + str(counter_cosine_similarity(list(y_train), list(classifier.predict(X_train_tfidf)))))\n",
    "\n",
    "write(\"knn_3\", classifier.predict(X_test_tfidf))"
   ]
  },
  {
   "cell_type": "code",
   "execution_count": 11,
   "metadata": {},
   "outputs": [
    {
     "name": "stdout",
     "output_type": "stream",
     "text": [
      "Score : 0.6019283746556474\n",
      "Cosine Similarity : 0.9920716234733631\n"
     ]
    }
   ],
   "source": [
    "#KNN-5\n",
    "classifier = KNeighborsClassifier(5)\n",
    "\n",
    "classifier.fit(X_train_tfidf, y_train)\n",
    "print(\"Score : \" + str(classifier.score(X_train_tfidf, y_train)))\n",
    "print(\"Cosine Similarity : \" + str(counter_cosine_similarity(list(y_train), list(classifier.predict(X_train_tfidf)))))\n",
    "\n",
    "write(\"knn_5\", classifier.predict(X_test_tfidf))"
   ]
  },
  {
   "cell_type": "code",
   "execution_count": 8,
   "metadata": {},
   "outputs": [],
   "source": [
    "#BBN"
   ]
  },
  {
   "cell_type": "code",
   "execution_count": null,
   "metadata": {},
   "outputs": [],
   "source": [
    "#Decision Tree\n"
   ]
  }
 ],
 "metadata": {
  "kernelspec": {
   "display_name": "Python 3",
   "language": "python",
   "name": "python3"
  },
  "language_info": {
   "codemirror_mode": {
    "name": "ipython",
    "version": 3
   },
   "file_extension": ".py",
   "mimetype": "text/x-python",
   "name": "python",
   "nbconvert_exporter": "python",
   "pygments_lexer": "ipython3",
   "version": "3.6.3"
  }
 },
 "nbformat": 4,
 "nbformat_minor": 2
}

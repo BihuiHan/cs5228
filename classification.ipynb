{
 "cells": [
  {
   "cell_type": "code",
   "execution_count": 1,
   "metadata": {},
   "outputs": [],
   "source": [
    "import numpy as np\n",
    "import pandas as pd\n",
    "\n",
    "from sklearn.metrics import fbeta_score\n",
    "from sklearn.model_selection import train_test_split\n",
    "from sklearn.feature_extraction.text import TfidfVectorizer, TfidfTransformer\n",
    "from sklearn.neighbors import KNeighborsClassifier\n",
    "\n",
    "from sklearn.naive_bayes import GaussianNB\n",
    "from sklearn.tree import DecisionTreeClassifier\n",
    "\n",
    "import math\n",
    "import os\n",
    "from scipy.sparse import hstack, csr_matrix\n",
    "from collections import Counter"
   ]
  },
  {
   "cell_type": "code",
   "execution_count": 2,
   "metadata": {},
   "outputs": [],
   "source": [
    "def read(X, dir):\n",
    "    for i in range(X.shape[0]):\n",
    "        x = X[i]\n",
    "        x[0] = str(x[0])\n",
    "        with open(\"page\" + os.sep + dir + \"_\" + str(i) + \".txt\", \"r\") as f:\n",
    "            text = f.read()\n",
    "            if \"404\" in text: \n",
    "                text = \"\" \n",
    "        x[2] = text\n",
    "        x[5] = str(x[5])\n",
    "    return X"
   ]
  },
  {
   "cell_type": "code",
   "execution_count": 3,
   "metadata": {},
   "outputs": [],
   "source": [
    "def write(method, y_pred):\n",
    "    with open(\"sample_submission_\" + method + \".csv\", \"w\") as f:\n",
    "        f.write(\"article_id,category\\n\")\n",
    "        for i, y in enumerate(y_pred):\n",
    "            f.write(str(i + 1) + \",\" + str(y))\n",
    "            f.write(\"\\n\")"
   ]
  },
  {
   "cell_type": "code",
   "execution_count": 4,
   "metadata": {},
   "outputs": [],
   "source": [
    "def counter_cosine_similarity(y1, y2):\n",
    "    y1 = Counter(y1)\n",
    "    y2 = Counter(y2)\n",
    "    y = set(y1).union(y2)\n",
    "    dotprod = sum(y1.get(k, 0) * y2.get(k, 0) for k in y)\n",
    "    magA = math.sqrt(sum(y1.get(k, 0)**2 for k in y))\n",
    "    magB = math.sqrt(sum(y2.get(k, 0)**2 for k in y))\n",
    "    return dotprod / (magA * magB)"
   ]
  },
  {
   "cell_type": "code",
   "execution_count": 5,
   "metadata": {},
   "outputs": [],
   "source": [
    "trainData=pd.read_csv(\"data\" + os.sep + \"train.csv\", na_filter=False)\n",
    "trainHeader = trainData.columns.values\n",
    "trainData = trainData.values\n",
    "\n",
    "X_train = trainData[:, range(6)]\n",
    "y_train = trainData[:, 6]\n",
    "y_train = y_train.astype(\"int\")\n",
    "\n",
    "X_train = read(X_train, \"train\")"
   ]
  },
  {
   "cell_type": "code",
   "execution_count": 6,
   "metadata": {},
   "outputs": [],
   "source": [
    "trainData_2=pd.read_csv(\"data\" + os.sep + \"train_v2.csv\", na_filter=False)\n",
    "trainHeader_2 = trainData_2.columns.values\n",
    "trainData_2 = trainData_2.values\n",
    "\n",
    "X_train_2 = trainData_2[:, range(6)]\n",
    "y_train_2 = trainData_2[:, 6]\n",
    "y_train_2 = y_train_2.astype(\"int\")\n",
    "\n",
    "X_train_2 = read(X_train_2, \"train_2\")"
   ]
  },
  {
   "cell_type": "code",
   "execution_count": 7,
   "metadata": {},
   "outputs": [],
   "source": [
    "testData_2=pd.read_csv(\"data\" + os.sep + \"test_v2.csv\", na_filter=False)\n",
    "testHeader_2 = testData_2.columns.values\n",
    "testData_2 = testData_2.values\n",
    "\n",
    "X_test_2 = testData_2[:, range(6)]\n",
    "X_test_2 = read(X_test_2, \"test_2\")"
   ]
  },
  {
   "cell_type": "code",
   "execution_count": 8,
   "metadata": {},
   "outputs": [],
   "source": [
    "X_combined = np.concatenate((X_train, X_train_2, X_test_2), axis=0)\n",
    "X_train_size = X_train.shape[0] + X_train_2.shape[0]\n",
    "\n",
    "vectorizer = TfidfVectorizer(stop_words=\"english\", norm=\"l1\")\n",
    "X_combined_tfidf = [vectorizer.fit_transform(X_combined[:, i]) for i in range(6)]"
   ]
  },
  {
   "cell_type": "code",
   "execution_count": 9,
   "metadata": {},
   "outputs": [
    {
     "name": "stdout",
     "output_type": "stream",
     "text": [
      "(14209, 6)\n",
      "10383\n",
      "(14209, 6018)\n",
      "(14209, 5885)\n",
      "(14209, 59706)\n",
      "(14209, 1847)\n",
      "(14209, 1833)\n",
      "(14209, 2)\n"
     ]
    }
   ],
   "source": [
    "print(X_combined.shape)\n",
    "print(X_train_size)\n",
    "\n",
    "print(X_combined_tfidf[0].shape)\n",
    "print(X_combined_tfidf[1].shape)\n",
    "print(X_combined_tfidf[2].shape)\n",
    "print(X_combined_tfidf[3].shape)\n",
    "print(X_combined_tfidf[4].shape)\n",
    "print(X_combined_tfidf[5].shape)"
   ]
  },
  {
   "cell_type": "code",
   "execution_count": 10,
   "metadata": {},
   "outputs": [
    {
     "name": "stdout",
     "output_type": "stream",
     "text": [
      "(10383, 69273)\n",
      "(3826, 69273)\n"
     ]
    }
   ],
   "source": [
    "X_train_tfidf = hstack([X_combined_tfidf[1][0:X_train_size], X_combined_tfidf[2][0:X_train_size], X_combined_tfidf[3][0:X_train_size], X_combined_tfidf[4][0:X_train_size], X_combined_tfidf[5][0:X_train_size]])\n",
    "X_test_tfidf = hstack([X_combined_tfidf[1][X_train_size:], X_combined_tfidf[2][X_train_size:], X_combined_tfidf[3][X_train_size:], X_combined_tfidf[4][X_train_size:], X_combined_tfidf[5][X_train_size:]])\n",
    "\n",
    "print(X_train_tfidf.shape)\n",
    "print(X_test_tfidf.shape)\n"
   ]
  },
  {
   "cell_type": "code",
   "execution_count": 11,
   "metadata": {},
   "outputs": [
    {
     "name": "stdout",
     "output_type": "stream",
     "text": [
      "(10383,)\n"
     ]
    }
   ],
   "source": [
    "y_train_combined = np.concatenate((y_train, y_train_2), axis=0)\n",
    "print(y_train_combined.shape)"
   ]
  },
  {
   "cell_type": "code",
   "execution_count": 12,
   "metadata": {},
   "outputs": [
    {
     "name": "stdout",
     "output_type": "stream",
     "text": [
      "F2 Score : 0.6517697935160097\n",
      "Score : 0.6999903688721949\n",
      "Cosine Similarity : 0.9905958735418139\n"
     ]
    }
   ],
   "source": [
    "#KNN\n",
    "classifier = KNeighborsClassifier(5)\n",
    "\n",
    "classifier.fit(X_train_tfidf, y_train_combined)\n",
    "print(\"F2 Score : \" + str(fbeta_score(y_train_combined, classifier.predict(X_train_tfidf), average='macro', beta=2)))\n",
    "print(\"Score : \" + str(classifier.score(X_train_tfidf, y_train_combined)))\n",
    "print(\"Cosine Similarity : \" + str(counter_cosine_similarity(list(y_train_combined), list(classifier.predict(X_train_tfidf)))))\n",
    "\n",
    "write(\"knn\", classifier.predict(X_test_tfidf))"
   ]
  },
  {
   "cell_type": "code",
   "execution_count": 13,
   "metadata": {},
   "outputs": [
    {
     "name": "stdout",
     "output_type": "stream",
     "text": [
      "F2 Score : 0.7260958515104268\n",
      "Score : 0.8212462679379755\n",
      "Cosine Similarity : 0.9652637986878331\n"
     ]
    }
   ],
   "source": [
    "#Decision Tree\n",
    "classifier = DecisionTreeClassifier(max_depth=40)\n",
    "\n",
    "classifier.fit(X_train_tfidf, y_train_combined)\n",
    "print(\"F2 Score : \" + str(fbeta_score(y_train_combined, classifier.predict(X_train_tfidf), average='macro', beta=2)))\n",
    "print(\"Score : \" + str(classifier.score(X_train_tfidf, y_train_combined)))\n",
    "print(\"Cosine Similarity : \" + str(counter_cosine_similarity(list(y_train_combined), list(classifier.predict(X_train_tfidf)))))\n",
    "\n",
    "write(\"decision_tree\", classifier.predict(X_test_tfidf))"
   ]
  },
  {
   "cell_type": "code",
   "execution_count": null,
   "metadata": {},
   "outputs": [],
   "source": []
  }
 ],
 "metadata": {
  "kernelspec": {
   "display_name": "Python 3",
   "language": "python",
   "name": "python3"
  },
  "language_info": {
   "codemirror_mode": {
    "name": "ipython",
    "version": 3
   },
   "file_extension": ".py",
   "mimetype": "text/x-python",
   "name": "python",
   "nbconvert_exporter": "python",
   "pygments_lexer": "ipython3",
   "version": "3.6.3"
  }
 },
 "nbformat": 4,
 "nbformat_minor": 2
}
